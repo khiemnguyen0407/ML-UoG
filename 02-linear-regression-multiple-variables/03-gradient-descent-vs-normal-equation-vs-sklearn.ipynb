{
 "cells": [
  {
   "cell_type": "code",
   "execution_count": 1,
   "id": "2e7eeb4b",
   "metadata": {},
   "outputs": [],
   "source": [
    "import numpy as np\n",
    "import matplotlib.pyplot as plt"
   ]
  },
  {
   "cell_type": "code",
   "execution_count": 2,
   "id": "e26475b5",
   "metadata": {},
   "outputs": [],
   "source": [
    "plt.rcParams['text.usetex'] = True"
   ]
  },
  {
   "cell_type": "markdown",
   "id": "614623b8",
   "metadata": {},
   "source": [
    "## Normal equation: example"
   ]
  },
  {
   "cell_type": "code",
   "execution_count": 3,
   "id": "935bf4fd",
   "metadata": {},
   "outputs": [
    {
     "name": "stdout",
     "output_type": "stream",
     "text": [
      "[216.66666667 100.        ]\n"
     ]
    },
    {
     "data": {
      "image/png": "[encoded data removed]",
      "text/plain": [
       "<Figure size 640x480 with 1 Axes>"
      ]
     },
     "metadata": {},
     "output_type": "display_data"
    }
   ],
   "source": [
    "x_train = np.array([1, 2, 3])\n",
    "y_train = np.array([300, 450, 500])\n",
    "X = np.vstack((np.ones_like(x_train), x_train)).T\n",
    "A = X.T @ X\n",
    "r = X.T @ y_train\n",
    "Theta = np.linalg.inv(A) @ r\n",
    "\n",
    "xx = np.linspace(0.5, 3.5, 2)\n",
    "XX = np.vstack((np.ones_like(xx), xx))\n",
    "yy = np.dot(Theta, XX)\n",
    "\n",
    "plt.scatter(x_train, y_train, marker='x', s=45, color='r')\n",
    "plt.plot(xx, yy, 'k--', linewidth=2.0)\n",
    "plt.grid(True, linestyle='--')\n",
    "plt.xlabel('$x$', fontsize=20)\n",
    "plt.ylabel('$y$', fontsize=20)\n",
    "plt.xticks(x_train, fontsize=14)\n",
    "plt.yticks(np.arange(300, 551, 50),fontsize=14)\n",
    "print(Theta)"
   ]
  },
  {
   "cell_type": "code",
   "execution_count": 4,
   "id": "cb7257dd",
   "metadata": {},
   "outputs": [
    {
     "name": "stdout",
     "output_type": "stream",
     "text": [
      "w = 99.99999999999996\n",
      "b = 216.66666666666677\n"
     ]
    }
   ],
   "source": [
    "from sklearn.linear_model import LinearRegression\n",
    "X_train = x_train.reshape((-1, 1))\n",
    "linear_regr = LinearRegression()\n",
    "linear_regr.fit(X_train, y_train)\n",
    "print(f\"w = {linear_regr.coef_[0]}\")\n",
    "print(f\"b = {linear_regr.intercept_}\")"
   ]
  },
  {
   "cell_type": "markdown",
   "id": "31f5a5cc",
   "metadata": {},
   "source": [
    "# Gradient Descent"
   ]
  },
  {
   "cell_type": "code",
   "execution_count": 5,
   "id": "4b1338b2",
   "metadata": {},
   "outputs": [],
   "source": [
    "def compute_cost_gradient(X, y_train, w, b):\n",
    "    m, n = X.shape\n",
    "    dJ_dw = np.zeros(n)\n",
    "    dJ_db = 0\n",
    "    for i in range(m):\n",
    "        error = (np.dot(X[i], w) + b) - y_train[i]\n",
    "        dJ_dw = dJ_dw + error * X[i,:]\n",
    "        dJ_db = dJ_db + error\n",
    "    dJ_dw = dJ_dw/m\n",
    "    dJ_db = dJ_db/m\n",
    "    return dJ_dw, dJ_db"
   ]
  },
  {
   "cell_type": "code",
   "execution_count": 6,
   "id": "a63e94f6",
   "metadata": {},
   "outputs": [
    {
     "name": "stdout",
     "output_type": "stream",
     "text": [
      "w = [108.64482699]\n",
      "b = 197.01494294898754\n"
     ]
    }
   ],
   "source": [
    "# Using gradient descent\n",
    "x_train = np.array([1, 2, 3])\n",
    "y_train = np.array([300, 450, 500])\n",
    "\n",
    "X = x_train[:, np.newaxis]\n",
    "w, b = np.array([50]), 50\n",
    "\n",
    "alpha = 0.15\n",
    "max_iter = 100 ## try to increase this value to see better results\n",
    "for i in range(max_iter):\n",
    "    # Calculate the gradient and update the parameters\n",
    "    dJ_dw, dJ_db = compute_cost_gradient(X, y_train, w, b)\n",
    "\n",
    "    # Update Parameters using w, b, alpha and gradient\n",
    "    w = w - alpha * dJ_dw               \n",
    "    b = b - alpha * dJ_db\n",
    "\n",
    "print(\"w =\", w)\n",
    "print(\"b =\", b)"
   ]
  },
  {
   "cell_type": "markdown",
   "id": "2a4c4975",
   "metadata": {},
   "source": [
    "# R squared and MSE from `sklearn`"
   ]
  },
  {
   "cell_type": "code",
   "execution_count": 7,
   "id": "1922eaf9",
   "metadata": {},
   "outputs": [],
   "source": [
    "from sklearn.metrics import mean_squared_error, r2_score"
   ]
  },
  {
   "cell_type": "code",
   "execution_count": 8,
   "id": "1d44e21d",
   "metadata": {},
   "outputs": [
    {
     "name": "stdout",
     "output_type": "stream",
     "text": [
      "Mean squared error = 555.5555555555555\n",
      "r2 score = 0.923076923076923\n"
     ]
    }
   ],
   "source": [
    "y_predict = linear_regr.predict(X_train)\n",
    "\n",
    "print(f\"Mean squared error = {mean_squared_error(y_true=y_train, y_pred=y_predict)}\")\n",
    "\n",
    "print(f\"r2 score = {r2_score(y_true=y_train, y_pred=y_predict)}\")"
   ]
  },
  {
   "cell_type": "markdown",
   "id": "42b96e10",
   "metadata": {},
   "source": [
    "# Polynomial Feature"
   ]
  },
  {
   "cell_type": "code",
   "execution_count": 9,
   "id": "a4a151a1",
   "metadata": {},
   "outputs": [],
   "source": [
    "from sklearn.preprocessing import PolynomialFeatures"
   ]
  },
  {
   "cell_type": "code",
   "execution_count": 10,
   "id": "026acab2",
   "metadata": {},
   "outputs": [
    {
     "name": "stdout",
     "output_type": "stream",
     "text": [
      "X_train =\n",
      "array([[1],\n",
      "       [2],\n",
      "       [3]])\n",
      "X_poly =\n",
      "array([[ 1.,  1.,  1.],\n",
      "       [ 2.,  4.,  8.],\n",
      "       [ 3.,  9., 27.]])\n"
     ]
    }
   ],
   "source": [
    "poly = PolynomialFeatures(degree=3, include_bias=False)\n",
    "\n",
    "X_poly = poly.fit_transform(X_train)\n",
    "print(\"X_train =\")\n",
    "print(repr(X_train))\n",
    "print(\"X_poly =\")\n",
    "print(repr(X_poly))"
   ]
  },
  {
   "cell_type": "code",
   "execution_count": 11,
   "id": "7a5404f8",
   "metadata": {},
   "outputs": [
    {
     "name": "stdout",
     "output_type": "stream",
     "text": [
      "X_train =\n",
      "array([[1],\n",
      "       [2],\n",
      "       [3]])\n",
      "X_poly =\n",
      "array([[ 1.,  1.,  1.,  1.],\n",
      "       [ 1.,  2.,  4.,  8.],\n",
      "       [ 1.,  3.,  9., 27.]])\n"
     ]
    }
   ],
   "source": [
    "poly = PolynomialFeatures(degree=3, include_bias=True)  # we have bias column with all values of 1\n",
    "\n",
    "X_poly = poly.fit_transform(X_train)\n",
    "print(\"X_train =\")\n",
    "print(repr(X_train))\n",
    "print(\"X_poly =\")\n",
    "print(repr(X_poly))"
   ]
  },
  {
   "cell_type": "code",
   "execution_count": null,
   "id": "028e924f",
   "metadata": {},
   "outputs": [],
   "source": []
  }
 ],
 "metadata": {
  "kernelspec": {
   "display_name": "base",
   "language": "python",
   "name": "python3"
  },
  "language_info": {
   "codemirror_mode": {
    "name": "ipython",
    "version": 3
   },
   "file_extension": ".py",
   "mimetype": "text/x-python",
   "name": "python",
   "nbconvert_exporter": "python",
   "pygments_lexer": "ipython3",
   "version": "3.11.7"
  }
 },
 "nbformat": 4,
 "nbformat_minor": 5
}
