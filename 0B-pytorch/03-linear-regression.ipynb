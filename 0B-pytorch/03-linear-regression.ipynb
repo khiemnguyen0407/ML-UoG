{
 "cells": [
  {
   "cell_type": "markdown",
   "metadata": {},
   "source": [
    "<font color=\"\">**Introduction to PyTorch**</font>\n",
    "\n",
    "<font color=\"\">**James Watt School of Engeering - University of Glasgow**</font>\n",
    "\n",
    "<font color=\"\">**Linear Regression Models**</font>\n",
    "\n",
    "<font color=\"DeepSkyBlue\">**Lecturer**</font>: **Khiem Nguyen**"
   ]
  },
  {
   "cell_type": "markdown",
   "metadata": {},
   "source": [
    "# Linear Regression\n",
    "\n",
    "Linear regression is a model that estimates the linear relationship between a scalar response (dependent variable) and one or more explantory variables (independent variables). A model with exactly one independent variable is a **simple linear regression**; a model with more than one independent variables is a **multiple linear regression**. Linear regression is a type of machine learning algorithm in supervised learning, that learns from the labelled datasets and maps the data points to the most optimized linear functions that can be used for prediction on new datasets.\n",
    "\n",
    "## Terminology and remark\n",
    "Given a dataset $\\mathrm{D} = \\{(\\mathbf{x}^{(1)}, y^{(1)}), \\ldots (\\mathbf{x}^{m}, y^{m})\\}$ in which $\\mathbf{x}^{(i)} = (x_{1}^{(i)}, \\ldots x_{n}^{(i)})$ is one particular independent variable and $y^{(i)}$ is its corresponding dependent variable, a linear regression model assumes that the relationship between the independent variable $\\mathbf{x}$ and the dependent variable $y$. In machine learning, one data point $(\\mathbf{x}^{(i)}, y^{(i)})$ is called one example or one sample. The independent variable data point $\\mathbf{x}^{(i)}$ is an input variable, and $y^{(i)}$ is the corresponding label. The components of $\\mathbf{x}$, namely $x_1, x_2, \\ldots x_n$ are called features. Therefore, the dataset $\\mathrm{D}$ has $m$ examples, and $n$ features.\n",
    "\n",
    "In machine learing procedure, we normally split a data set into two or three smaller datasets\n",
    "- Training dataset: The data are used for establishing the prediction model\n",
    "- Validation dataset: The data are used to measure how well the model has been trained and to decide whether futher training is needed.\n",
    "- Test dataset: The data are used to justify how well the model performs on the unseen data.\n",
    "\n",
    "Note that we don't have to necessarily split a dataset into three datasets as mentioned. If the traininng process is fast and we know the model can be trained very efficiently, we can split the original dataset into only two smaller subsets, namely training set and test set.\n",
    "\n",
    "## Formulation\n",
    "\n",
    "### Linear regression model\n",
    "A linear regression model for a problem with $n$ features takes the form\n",
    "$$\n",
    "f_{\\mathbf{w}, b}(\\mathbf{x}) = f(\\mathbf{x}; \\mathbf{w}, b) = \\sum\\limits_{j=1}^{n} w_j x_j + b = \\mathbf{w} \\cdot \\mathbf{x} + b = w_1 x_1 + \\cdots + w_n x_n + b\n",
    "$$\n",
    "where $\\mathbf{w} = (w_1, \\ldots, w_n)$ is the weight vector and $b$ is the bias (intercept) of the model. The dot between $\\mathbf{w}$ and $\\mathbf{x}$ denote the dot product between two vectors. If we define $x_0 = 1$ and $w_0 = b$, we can rewrite the above model expression as\n",
    "$$\n",
    "f(\\mathbf{x}; \\mathbf{w}, b) = \\sum\\limits_{j=0}^{n} w_j x_j = w_0 x_0 + \\cdots + w_n x_n\n",
    "$$\n",
    "The weights $w_j$ for $j = 1, \\ldots, n$ and the bias $b$ are called **model parameters**. We will see that all the parameters in a machine learning model, regardless how simple or how complex the model is, are defined as model parameters in machine learning framework PyTorch too.\n",
    "\n",
    "Our goald is to find the values of $\\mathbf{w}$ and $b$ so that the model can make the prediction on the given dataset as well as possible. To this end, we define the loss function that measure the mean square error between the prediction and the true labels on the training dataset. As the formula would not change if we use the training set or the entire original dataset, let us use the original dataset for the formulation. The loss function reads\n",
    "$$\n",
    "\\mathcal{L}(\\mathbf{w}, b) = \\frac{1}{2 m}\\sum\\limits_{i=1}^{m} (f(\\mathbf{x}^{(i)}; \\mathbf{w}, b) - y^{(i)})^2\n",
    "$$\n",
    "By trying to obtain the prediction as well as possible, we seek the parameters $\\mathbf{w}$ and $b$ to minimize the loss function $L(\\mathbf{w}, b)$\n",
    "$$\n",
    "\\mathbf{w}^{\\ast}, b^{\\ast} = \\mathrm{arg} \\min\\limits_{\\mathbf{w}, b} L(\\mathbf{w}, b).\n",
    "$$\n",
    "The above mathematical formula just means as follows: We minimize the loss function $L(\\mathbf{w}, b)$ and the solution of this minimization process that makes the loss function achieves its minimum is denoted $\\mathbf{w}^{\\ast}, b^{\\ast}$\n",
    "\n",
    "**Remark**\n",
    "\n",
    "In the lectures, I name the loss function presented here *cost function* and emphasize that it is also called loss function in literature as well. Since the practioners in PyTorch community and even the PyTorch tutorial call it the loss function, I decide to call it loss function here. This help you to transition smoothly and easily if you wish to read more online tutorial.\n",
    "\n",
    "### Training a linear regression model\n",
    "Training a linear regression model involves running a gradient-based method to minimize the cost function. We have learned the basics of gradient descent summarized according the formulation updating the parameters $\\mathbf{w}$ and $b$ as follows\n",
    "$$\n",
    "\\begin{aligned}\n",
    "\\mathbf{w} &\\quad\\longleftarrow& \\mathbf{w} - \\alpha \\frac{\\partial L}{\\partial \\mathbf{w}}\\\\[8pt]\n",
    "b &\\quad\\longleftarrow& b - \\alpha \\frac{\\partial L}{\\partial b}\n",
    "\\end{aligned}\n",
    "$$\n",
    "Computing the derivatives of the loss function with respect to the model parameters (namely, the gradient of the loss function) is the most complex process in this formulation. We will see that this computation out to be extremely easy in PyTorch thank to the `autograd` engine we learned in the last Notebook, and therefor the implementation is straightforward in PyTorch. Moreover, we see that the naive gradient descent presented above is just one of the many ways to minimize the loss function. Indeed, PyTorch provides optimization tools with various algorithms which are more efficient than the naive gradient descent method."
   ]
  },
  {
   "cell_type": "markdown",
   "metadata": {},
   "source": [
    "## Linear regression with naive gradient descent\n",
    "\n",
    "Let us try to implement a linear regression model using the naive gradient descent we learned in the lectures by using PyTorch. You will see that it is surprising easy. For this purpose, we will generate a dataset that is obtained by using random generator and the exact linear mapping\n",
    "$$\n",
    "y = \\sum\\limits_{j=1}^{n} w_j x_j + b\n",
    "$$\n",
    "Moreover, we do not add noise to the data. Therefore, the loss function can achieve the zero minimum in theory because the linear regression model, if trained perferctly, can make perfect prediction on the dataset:\n",
    "$$\\min\\limits_{\\mathbf{w}, b} L(\\mathbf{w}, b) =0 $$"
   ]
  },
  {
   "cell_type": "markdown",
   "metadata": {},
   "source": [
    "First, let us generate the data set with $11$ features. For illustration, we use the following linear mapping for data generation\n",
    "$$\n",
    "f(\\mathbf{x}) = \\bigg(\\sum\\limits_{j=-5}^{5} j \\, x_j\\bigg) + \\frac{5}{2} = \\mathbf{w}^{\\text{ref}} \\cdot \\mathbf{x} + b^{\\text{ref}},\n",
    "$$\n",
    "where the dot \n",
    "So, the reference (exact) parameters for the underlying linear model are\n",
    "$$\n",
    "w_j^{\\text{ref}} = j\\quad \\forall j = -5, \\ldots, 5, \\qquad b^{\\text{ref}} = \\frac{5}{2}\n",
    "$$"
   ]
  },
  {
   "cell_type": "code",
   "execution_count": 34,
   "metadata": {},
   "outputs": [],
   "source": [
    "# First thing first\n",
    "import torch\n",
    "import numpy as np\n",
    "import matplotlib.pyplot as plt"
   ]
  },
  {
   "cell_type": "code",
   "execution_count": 35,
   "metadata": {},
   "outputs": [
    {
     "name": "stdout",
     "output_type": "stream",
     "text": [
      "x_data.shape = torch.Size([2000, 11])\n",
      "y_data.shape = torch.Size([2000])\n",
      "w_ref.shape = torch.Size([11])\n",
      "b_ref.shape = torch.Size([1])\n"
     ]
    }
   ],
   "source": [
    "torch.Generator().manual_seed(42)\n",
    "n_samples, n_features = 2000, 11\n",
    "w_ref = torch.linspace(-5, 5, 11, requires_grad=False)\n",
    "b_ref = torch.tensor([2.5], requires_grad=False)\n",
    "X_data = torch.rand(size=(n_samples, n_features))\n",
    "y_data = X_data.matmul(w_ref) + b_ref\n",
    "print(f\"x_data.shape = {X_data.shape}\")\n",
    "print(f\"y_data.shape = {y_data.shape}\")\n",
    "print(f\"w_ref.shape = {w_ref.shape}\")\n",
    "print(f\"b_ref.shape = {b_ref.shape}\")"
   ]
  },
  {
   "cell_type": "markdown",
   "metadata": {},
   "source": [
    "We define the model parameters as two tensors `w` and `b` with the attribute `require_grad=True`. Tensor `w` is just a one-dimensional vector with $n = 11$ components and $b$ is another one-dimensional vector with just one element (a tensor with one scalar). We need to set the keyword argument `requires_grad=True` because we want to compute the derivative of the loss function with respect to these variables, which will be stored in `w.grad` and `b.grad`.\n",
    "\n",
    "Since the input data is defined as a $m\\times n$ 2-dimensional tensor, denoted as $\\mathbf{X}$, the model make the prediction by just a simple forward pass following the computation\n",
    "$$\n",
    "f(\\mathbf{X}; \\mathbf{w}, b) = \\mathbf{X} \\mathbf{w} + b\n",
    "$$\n",
    "with $\\mathbf{X} \\mathbf{w}$ denoting the matrix multiplication between two tensors. This point can be a bit confusing because $\\mathbf{w}$ in our code is just a 1-dimensional vector. PyTorch handles it as we would expect: It performs the dot product of between last dimension of $\\mathbf{X}$ and the first dimension of $\\mathbf{w}$. The outcome is a 1-dimensional vector. Therefore, it is equivalent to \"multiplying $\\mathbf{X}$ by the column vector constructed from $\\mathbf{w}$ and then flattening the resulted column vector into the 1-dimensional vector.\""
   ]
  },
  {
   "cell_type": "code",
   "execution_count": 36,
   "metadata": {},
   "outputs": [
    {
     "name": "stdout",
     "output_type": "stream",
     "text": [
      "Xw = tensor([3., 3., 3., 3.])\n",
      "Xw_column=\n",
      "tensor([[3.],\n",
      "        [3.],\n",
      "        [3.],\n",
      "        [3.]])\n"
     ]
    }
   ],
   "source": [
    "# Let us illustrate the above point by a simple code.\n",
    "X = torch.ones(size=(4, 3), requires_grad=False)\n",
    "w = torch.ones(3, requires_grad=False)\n",
    "w_column = w.reshape((-1, 1))\n",
    "Xw = X.matmul(w)\n",
    "Xw_column = X.matmul(w_column)\n",
    "print(f\"Xw = {Xw}\")\n",
    "print(f\"Xw_column=\\n{Xw_column}\")"
   ]
  },
  {
   "cell_type": "markdown",
   "metadata": {},
   "source": [
    "**Forward pass** and **backward pass**\n",
    "\n",
    "Before running the gradient descent, let us now compute the loss function (forward propagation) and its gradient (backward propagation), namely $\\partial L / \\partial w_j$ and $\\partial L / \\partial b$ for just one iteration step. Note that sometimes people refer to forward pass as the step of computing the output of the model given the input data. However, I think it is only fair to refer to forward as a complete step of computing the loss function because the backward propagation corresponds to the compute the gradient of the loss function, namely the derivative of the loss function with respect to the model parameters, not the derivatives of the model function with respect to its parameters. In any case, you should understand that the backward pass can be very flexible and can be performed anytime and anywhere you need. \n",
    "\n",
    "**Remark**: We particularly do this boring step to convince you that the formulation we learned in the theory is correct."
   ]
  },
  {
   "cell_type": "code",
   "execution_count": 37,
   "metadata": {},
   "outputs": [
    {
     "name": "stdout",
     "output_type": "stream",
     "text": [
      "w.grad = tensor([2.4881, 2.3081, 2.2685, 2.2163, 2.0926, 2.0538, 1.9590, 1.8132, 1.8148,\n",
      "        1.6770, 1.6450])\n",
      "b.grad = tensor([3.9198])\n"
     ]
    }
   ],
   "source": [
    "# We just create model parameters with all unit values so that it is easy\n",
    "# to double-check the theory later.\n",
    "w = torch.ones(n_features, requires_grad=True)      \n",
    "b = torch.ones(1, requires_grad=True)\n",
    "\n",
    "# Forward pass\n",
    "y_pred = X_data.matmul(w) + b\n",
    "loss = 1 / (2 * n_samples) * torch.sum((y_pred - y_data) ** 2)\n",
    "\n",
    "\n",
    "# Backward pass\n",
    "loss.backward()     # That's it... nothing more\n",
    "# Let us look at the gradient of the loss function\n",
    "print(f\"w.grad = {w.grad}\")\n",
    "print(f\"b.grad = {b.grad}\")"
   ]
  },
  {
   "cell_type": "markdown",
   "metadata": {},
   "source": [
    "On the other hand, we know from the lectures that the gradient of the loss function $L$ can be computed following\n",
    "$$\n",
    "\\begin{aligned}\n",
    "\\frac{\\partial L}{\\partial w_j} &= \\frac{1}{n} \\sum\\limits_{i} (f^{\\mathbf{x}^{(i)}} - y^{(i)}) x_j^{(i)} \\\\[12pt]\n",
    "\\frac{\\partial L}{\\partial b} &= \\frac{1}{n}  \\sum\\limits_{i} (f^{\\mathbf{x}^{(i)}} - y^{(i)})\n",
    "\\end{aligned}\n",
    "$$\n",
    "Let us verify whether this is true. You will see that apart from the round-off errors accumulated through the backprogation calculation, the numerical results given by PyTorch agrees with the theory we learned."
   ]
  },
  {
   "cell_type": "code",
   "execution_count": 38,
   "metadata": {},
   "outputs": [
    {
     "name": "stdout",
     "output_type": "stream",
     "text": [
      "dL_dw = tensor([2.4881, 2.3081, 2.2685, 2.2163, 2.0926, 2.0538, 1.9590, 1.8132, 1.8148,\n",
      "        1.6770, 1.6450], grad_fn=<DivBackward0>)\n",
      "dL_db = 3.919809103012085\n",
      "dL_dw - w.grad = tensor([-4.7684e-07, -4.7684e-07, -2.3842e-07, -2.3842e-07,  2.3842e-07,\n",
      "         0.0000e+00,  2.3842e-07, -2.3842e-07,  2.3842e-07, -2.3842e-07,\n",
      "        -1.1921e-07], grad_fn=<SubBackward0>)\n",
      "dL_db - b.grad = tensor([-2.3842e-07], grad_fn=<SubBackward0>)\n"
     ]
    }
   ],
   "source": [
    "dL_dw = (y_pred - y_data).matmul(X_data) / n_samples\n",
    "dL_db = (y_pred - y_data).sum() / n_samples\n",
    "print(f\"dL_dw = {dL_dw}\")                       # It is identical to w.grad up to the digits shown on the console.\n",
    "print(f\"dL_db = {dL_db}\")\n",
    "\n",
    "print(f\"dL_dw - w.grad = {dL_dw - w.grad}\")     # The differences should be very small. But they are not identical to zero.\n",
    "print(f\"dL_db - b.grad = {dL_db - b.grad}\")"
   ]
  },
  {
   "cell_type": "markdown",
   "metadata": {},
   "source": [
    "**Training linear regression model**\n",
    "\n",
    "We have learned how to make one forward pass and one backward pass. Let us put them all together in a training loop using the naive gradient descent. The number of epochs and the learning rate are defined in the code cell."
   ]
  },
  {
   "cell_type": "code",
   "execution_count": 39,
   "metadata": {},
   "outputs": [
    {
     "data": {
      "image/png": "[encoded data removed]",
      "text/plain": [
       "<Figure size 400x350 with 1 Axes>"
      ]
     },
     "metadata": {},
     "output_type": "display_data"
    }
   ],
   "source": [
    "# We seet the seed for random generator for reproducibility purpose.\n",
    "# It means that if we run this code cell again and again, the same result\n",
    "# will be achieved although we have defined w and b using torch.rand(...)\n",
    "torch.manual_seed(seed=42)  \n",
    "w = torch.rand(n_features, requires_grad=True)\n",
    "b = torch.rand(1, requires_grad=True)\n",
    "\n",
    "epochs = 500\n",
    "lr = 0.01\n",
    "for epoch in range(epochs):\n",
    "    # Compute the prediction of the model --> forward pass\n",
    "    y_pred = X_data.matmul(w) + b\n",
    "\n",
    "    # Compute the cost function using Mean Squared Error metric.\n",
    "    loss = 0.5 / n_samples * (y_pred - y_data).pow(2).sum()\n",
    "    \n",
    "    # Backward pass\n",
    "    loss.backward()\n",
    "\n",
    "    # Update parameters according to the gradient descent\n",
    "    with torch.no_grad():\n",
    "        w -= lr * w.grad\n",
    "        b -= lr * b.grad\n",
    "        \n",
    "        # We zero out the gradient before the next update. \n",
    "        # Otherwise, the gradients for each iteration will be \n",
    "        # accumulated into w.grad and b.grad\n",
    "        w.grad.zero_(), b.grad.zero_()\n",
    "\n",
    "# Plot the w-reference and w from the model on the same plot.\n",
    "# The perfect training would mean w-reference and w must align\n",
    "# on the same diagonal line w = w_ref.\n",
    "plt.figure(figsize=(4, 3.5))\n",
    "plt.scatter(w_ref.detach(), w.detach(), marker='x', color='r', label='$w_j$')\n",
    "plt.scatter(b_ref.detach(), b.detach(), marker='o', color='b', label='b')\n",
    "plt.plot([-5, 5], [-5, 5], 'k--')\n",
    "plt.title(f\"loss = {loss.item():6.5f}\")\n",
    "plt.legend()\n",
    "plt.grid(True); plt.show()"
   ]
  },
  {
   "cell_type": "markdown",
   "metadata": {},
   "source": [
    "We can see that the training does not give good result enough. Indeed, the model parameters $(\\mathbf{w}, b)$ are still quite far off from the reference paramters $(\\mathbf{w}^{\\text{ref}}, b^{\\text{ref}})$. The problem is that the training process: we have not trained with enough epochs, and the learning rate is still not optimal. Let us try improve the model by using different number of epochs and learning rate. To this end, let us put everything in a function governed by the number of epochs and the learning rate, and run the functions with various input values. You will see, the results are much better if we choose the right learning rate $\\alpha$, even if we use fewer number of training epochs."
   ]
  },
  {
   "cell_type": "code",
   "execution_count": 40,
   "metadata": {},
   "outputs": [
    {
     "data": {
      "image/png": "[encoded data removed]",
      "text/plain": [
       "<Figure size 1200x300 with 4 Axes>"
      ]
     },
     "metadata": {},
     "output_type": "display_data"
    }
   ],
   "source": [
    "def execute_gradient_descent(epochs, lr):\n",
    "    torch.manual_seed(seed=42)\n",
    "    w = torch.rand(n_features, requires_grad=True)\n",
    "    b = torch.rand(1, requires_grad=True)\n",
    "    for epoch in range(epochs):\n",
    "        y_pred = X_data.matmul(w) + b\n",
    "        loss = 0.5 / n_samples * (y_pred - y_data).pow(2).sum()\n",
    "        \n",
    "        loss.backward()\n",
    "        with torch.no_grad():\n",
    "            w -= lr * w.grad\n",
    "            b -= lr * b.grad\n",
    "            w.grad.zero_(), b.grad.zero_()\n",
    "\n",
    "    return w, b, loss\n",
    "\n",
    "ep_list = [200, 200, 250, 250]\n",
    "lr_list = [0.01, 0.05, 0.1, 0.5]\n",
    "\n",
    "plt.figure(figsize=(12, 3))\n",
    "torch.manual_seed(seed=42)      # just for reproducibility\n",
    "for i in range(len(ep_list)):\n",
    "    w, b, loss = execute_gradient_descent(epochs=ep_list[i], lr=lr_list[i])\n",
    "    plt.subplot(1, 4, i+1)\n",
    "    plt.scatter(w_ref.detach(), w.detach(), marker='x', color='r', label='$w_j$')\n",
    "    plt.scatter(b_ref.detach(), b.detach(), marker='o', color='b', label='b')\n",
    "    plt.plot([-5, 5], [-5, 5], 'k--')\n",
    "    plt.title(f\"loss = {loss.item():5.4e}\")\n",
    "    plt.legend()\n",
    "    plt.grid(True)\n",
    "\n",
    "plt.tight_layout()"
   ]
  },
  {
   "cell_type": "markdown",
   "metadata": {},
   "source": [
    "## Linear regression with object-oriented programming\n",
    "\n",
    "The above implementation is fine. But when we want to build a more complex machine learning models such as deep neural networks, convolution neural networks and recurrent neural networks, the naive implementation will suffer. On one hand, we must write lengthy code to implement the complex mathematical operations in a deep neural network. On another hand, we cannot use take advatange of the standard building block of neural networks and cannot automate the optimization process by using different algorithms. In this section, we will explore an object-oriented approach to build a linear regression model using various modules and submodules in PyTorch. \n",
    "\n",
    "When building neural networks we frequently think of arranging the computation into layers, some of which have learnable parameters which will be optimized during learning. In TensorFlow, packages like Keras, TensorFlow-Slim, and TFLearn provide higher-level abstractions over raw computational graphs that are useful for building neural networks. In PyTorch, the `nn` package serves this same purpose. The `nn` package defines a set of Modules, which are roughly equivalent to neural network layers. A Module receives input Tensors and computes output Tensors, but may also hold internal state such as Tensors containing learnable parameters. The `nn` package also defines a set of useful loss functions that are commonly used when training neural networks."
   ]
  },
  {
   "cell_type": "markdown",
   "metadata": {},
   "source": [
    "**Key components to learn**\n",
    "\n",
    "It is quite clear at this point that we can decouple the optimization algorithm from the step of definining a model presentation. By defining a model representation, we are building a neural network. Even a simple linear regresion model can be considered as a neural network (shallower than a shallow neural network). This model receives the input data and make the prediction appropriately using the complex mathematical function under the skin of the model. To train the model, we need to seek for the learnable parameters in the model, we must perform an optimization process to minimize a meaningful loss function reflecting the aims of the problems such as regression prediction or category prediction. The optimization process can be done for any optimization problem, or any multi-variable function, and is not necessarily for just machine learning problem. For this reason, we can think of the optimization process as an separate identity. As long as we can define the function to be minimized, we can call an optimizer to do the job on that function. In our case, we want to define appropriate loss function for a particular problem. The job of the the optimizer is try to minimize such loss function regardless how it may be defined.\n",
    "\n",
    "With the above explanation, we can roughly conclude building and training a machine learning model consists of three key components (put in the context of PyTorch):\n",
    "- Define a machine learning model as a subclass of the class `torch.nn.Module`\n",
    "- Define a loss function and an optimizer provided in the submodule `torch.nn` and `torch.optim`, respectively.\n",
    "- Train the machine learning model.\n",
    "\n",
    "Don't worry! We will build more and more complex networks and learn a lot more building blocks in the future. Let us focus on these three components and illustrate them via the task of building and training a multiple linear regression model for now."
   ]
  },
  {
   "cell_type": "code",
   "execution_count": 41,
   "metadata": {},
   "outputs": [],
   "source": [
    "# First thing first, we import something useful\n",
    "import torch.functional as F\n",
    "import torch.nn as nn"
   ]
  },
  {
   "cell_type": "markdown",
   "metadata": {},
   "source": [
    "### Building a model subclassing `nn.Module`\n",
    "\n",
    "Except for `Parameter`, the classes we discuss in section are all subclasses of `torch.nn.Module`. This is the PyTorch base class meant to encapsulate behaviors specific to PyTorch Models and their components. One important behavior of `torch.nn.Module` is registering parameters. If a particular `Module` subclass has learning weights, these weights\n",
    "are expressed as instances of `torch.nn.Parameter`. The `Parameter` class is a subclass of `torch.Tensor`, with the special behavior that when they are assigned as attributes of a `Module`, they are added to the list of that modules parameters. These parameters may be accessed through the `parameters()` method on the `Module` class."
   ]
  },
  {
   "cell_type": "code",
   "execution_count": 42,
   "metadata": {},
   "outputs": [],
   "source": [
    "class LinearRegression(nn.Module):\n",
    "\n",
    "    def __init__(self):\n",
    "        super().__init__()\n",
    "        self.fc = nn.Linear(in_features=n_features, out_features=1, bias=True)\n",
    "\n",
    "    def forward(self, x):\n",
    "        x = self.fc(x)\n",
    "        x = x.flatten()\n",
    "        return x"
   ]
  },
  {
   "cell_type": "markdown",
   "metadata": {},
   "source": [
    "This shows the fundamental structure of a PyTorch model: there is an `__init__()` method that defines the layers and other components of a model, and a `forward()` method where the computation gets done. Note that we can print the model, or any of its submodules, to learn about its structure."
   ]
  },
  {
   "cell_type": "code",
   "execution_count": 43,
   "metadata": {},
   "outputs": [
    {
     "name": "stdout",
     "output_type": "stream",
     "text": [
      "Model:\n",
      "LinearRegression(\n",
      "  (fc): Linear(in_features=11, out_features=1, bias=True)\n",
      ")\n",
      "\n",
      "Fully connected layer: Linear(in_features=11, out_features=1, bias=True)\n",
      "\n",
      "Weight of the linear layer:\n",
      "Parameter containing:\n",
      "tensor([[ 0.2228,  0.0408,  0.1454, -0.0426,  0.2324,  0.0446, -0.1408,  0.0769,\n",
      "         -0.1389, -0.0354, -0.1225]], requires_grad=True)\n",
      "\n",
      "Bias of the linear layer:\n",
      "Parameter containing:\n",
      "tensor([0.2000], requires_grad=True)\n"
     ]
    }
   ],
   "source": [
    "model = LinearRegression()\n",
    "print(f\"Model:\\n{model}\\n\")\n",
    "print(f\"Fully connected layer: {model.fc}\\n\")\n",
    "print(f\"Weight of the linear layer:\\n{model.fc.weight}\\n\")\n",
    "print(f\"Bias of the linear layer:\\n{model.fc.bias}\")"
   ]
  },
  {
   "cell_type": "code",
   "execution_count": 44,
   "metadata": {},
   "outputs": [],
   "source": [
    "# from torchviz import make_dot, make_dot_from_trace\n",
    "\n",
    "# x = torch.randn(size=(1, n_features))\n",
    "# make_dot(model(x), params=dict(model.named_parameters()))"
   ]
  },
  {
   "cell_type": "markdown",
   "metadata": {},
   "source": [
    "As mentioned above, by subclassing the class `nn.Module` and using `nn.Linear()`, our model automatically recognizes all the _learnable parameters_ in the Linear layer. These learnable parameters are stored in the generator object `Module.parameters` accessed by using the method `model.parameters()`. To see how the parameters look like, we must go through the generator object by a for loop. The generator object behaves like an *iterable object*."
   ]
  },
  {
   "cell_type": "code",
   "execution_count": 45,
   "metadata": {},
   "outputs": [
    {
     "name": "stdout",
     "output_type": "stream",
     "text": [
      "Model parameters:\n",
      "<generator object Module.parameters at 0x0000022C07101FC0>\n",
      "\n",
      "All parameters in the model:\n",
      "[Parameter containing:\n",
      "tensor([[ 0.2228,  0.0408,  0.1454, -0.0426,  0.2324,  0.0446, -0.1408,  0.0769,\n",
      "         -0.1389, -0.0354, -0.1225]], requires_grad=True), Parameter containing:\n",
      "tensor([0.2000], requires_grad=True)]\n"
     ]
    }
   ],
   "source": [
    "print(f\"Model parameters:\\n{model.parameters()}\\n\")\n",
    "parameter_list = [p for p in model.parameters()]\n",
    "print(f\"All parameters in the model:\\n{parameter_list}\")"
   ]
  },
  {
   "cell_type": "markdown",
   "metadata": {},
   "source": [
    "### Define optimizer and loss function\n",
    "\n",
    "The package `torch.optim` gives us a lot of useful optimizers to train machine learning models. Most commonly used methods are already supported, and the interface is general enough, so that more sophisticated ones can also be easily integrated in the future.\n",
    "\n",
    "\n",
    "**How to use an optimizer**\n",
    "To use torch.optim you have to construct an optimizer object that will hold the current state and will update the parameters based on the computed gradients.\n",
    "\n",
    "**Construct an optimizer**\n",
    "To construct an Optimizer you have to give it an iterable containing the parameters (all should be Variable s) to optimize. Then, you can specify optimizer-specific options such as the learning rate, weight decay, etc. Here are two examples\n",
    "```python\n",
    "optimizer = optim.SGD(model.parameters(), lr=0.01, momentum=0.9)    # SGD --> Stochastic Gradient Descent\n",
    "optimizer = optim.Adam([var1, var2], lr=0.0001)\n",
    "```\n",
    "\n",
    "There are a ton of things to discuss in the package `torch.optim`. For interested reader, please refer to [documentation](https://pytorch.org/docs/stable/optim.html)"
   ]
  },
  {
   "cell_type": "markdown",
   "metadata": {},
   "source": [
    "For our linear regression model, we shall use the *Adam* optimizer and define the loss function using the mean squared error."
   ]
  },
  {
   "cell_type": "code",
   "execution_count": 46,
   "metadata": {},
   "outputs": [
    {
     "name": "stdout",
     "output_type": "stream",
     "text": [
      "optimizer = Adam (\n",
      "Parameter Group 0\n",
      "    amsgrad: False\n",
      "    betas: (0.9, 0.999)\n",
      "    capturable: False\n",
      "    differentiable: False\n",
      "    eps: 1e-08\n",
      "    foreach: None\n",
      "    fused: None\n",
      "    lr: 0.25\n",
      "    maximize: False\n",
      "    weight_decay: 0\n",
      ")\n",
      "criterion = MSELoss()\n"
     ]
    }
   ],
   "source": [
    "optimizer = torch.optim.Adam(model.parameters(), lr=0.25)\n",
    "criterion = nn.MSELoss()\n",
    "# Let us have a look at we have just defined.\n",
    "print(f\"optimizer = {optimizer}\")\n",
    "print(f\"criterion = {criterion}\")"
   ]
  },
  {
   "cell_type": "code",
   "execution_count": 47,
   "metadata": {},
   "outputs": [
    {
     "name": "stdout",
     "output_type": "stream",
     "text": [
      "mse    = 5.629629135131836\n",
      "mse_nn = 5.629629135131836\n",
      "mse == mse_nn: True\n"
     ]
    }
   ],
   "source": [
    "# Let us try to use the function criterion\n",
    "a = torch.arange(10)\n",
    "b = torch.linspace(0, 5, 10)\n",
    "mse = 1 / (a.shape[0]) * (a - b).pow(2).sum()\n",
    "\n",
    "mse_nn = criterion(a, b)\n",
    "print(f\"mse    = {mse}\")\n",
    "print(f\"mse_nn = {mse_nn}\")\n",
    "print(f\"mse == mse_nn: {mse == mse_nn}\")    # They are equal"
   ]
  },
  {
   "cell_type": "markdown",
   "metadata": {},
   "source": [
    "### Train the model\n",
    "\n",
    "With everything explained above, this step is natural and the code provided below is self-explanatory. Essentially, we make some small replacements:\n",
    "- The step of updating the learnable parameters in the model is done by the statement `optimizer.step()`\n",
    "- The step of zeroing out the `grad` attributes in the model parameters is done by the statement `optimizer.zero_grad()`\n",
    "\n",
    "If you can compare the training loop before using the optimizer and after using the optimizer, the code appears quite natural. However, to understand the code better, it is important to recall the we have registered the learnable parameters in the model to the optimizer via the statement\n",
    "```python\n",
    "optimizer = torch.optim.Adam(model.parameters(), lr=0.25)\n",
    "```\n",
    "Therefore, although we do not explicitly mention the parameters in the model in `optimizer.step()` and `optimizer.zero_grad()`, the optimizer understand those parameters and act on them."
   ]
  },
  {
   "cell_type": "code",
   "execution_count": 48,
   "metadata": {},
   "outputs": [],
   "source": [
    "epochs = 1000       # we set learning rate before in the optimizer\n",
    "for epoch in range(epochs):\n",
    "\n",
    "    y_pred = model(X_data)\n",
    "    loss = criterion(y_data, y_pred)\n",
    "    loss.backward()\n",
    "\n",
    "    optimizer.step()\n",
    "    optimizer.zero_grad()"
   ]
  },
  {
   "cell_type": "code",
   "execution_count": 49,
   "metadata": {},
   "outputs": [
    {
     "name": "stdout",
     "output_type": "stream",
     "text": [
      "model.fc.weight =\n",
      "Parameter containing:\n",
      "tensor([[-5.0000e+00, -4.0000e+00, -3.0000e+00, -2.0000e+00, -1.0000e+00,\n",
      "         -6.5976e-08,  1.0000e+00,  2.0000e+00,  3.0000e+00,  4.0000e+00,\n",
      "          5.0000e+00]], requires_grad=True)\n",
      "model.fc.bias =\n",
      "Parameter containing:\n",
      "tensor([2.5000], requires_grad=True)\n"
     ]
    },
    {
     "data": {
      "image/png": "[encoded data removed]",
      "text/plain": [
       "<Figure size 400x280 with 1 Axes>"
      ]
     },
     "metadata": {},
     "output_type": "display_data"
    }
   ],
   "source": [
    "# Let us look at the numerical results.\n",
    "print(f\"model.fc.weight =\\n{model.fc.weight}\")\n",
    "print(f\"model.fc.bias =\\n{model.fc.bias}\")\n",
    "\n",
    "# The results look very good. We can plot them now.\n",
    "plt.figure(figsize=(4, 2.8))\n",
    "plt.scatter(model.fc.weight.detach(), w_ref, marker='x', color='r')\n",
    "plt.scatter(model.fc.bias.detach(), b_ref, marker='o', color='b')\n",
    "plt.plot([-5, 5], [-5, 5], 'k--')\n",
    "plt.grid(True); plt.show()"
   ]
  },
  {
   "cell_type": "markdown",
   "metadata": {},
   "source": [
    "## Polynomial Regression\n",
    "\n",
    "Polynomial regression can be derived from linear regression with polynomial features. Assume that we are given the dataset $\\mathrm{D} = \\{(x^{(i)}, y^{(i)})\\}_{i=1}^{m}$, where $x^{(i)}$ is scalar. Then, the polynomial regression for one-dimensional input feature is expressed as\n",
    "$$\n",
    "P(x) = w_0 + w_1 x + \\cdots w_n x^{n} = w_0 + \\sum\\limits_{j=1}^{n} w_j x^{j}\n",
    "$$\n",
    "By defining the new features $x_j = x^{j}$ for all $j = 1, \\ldots, n$, the polynomial expression $P = P(x)$ can be cast to the linear regression model with $n$ features as we learned. That's it for the theory. As simple as that $\\ldots$ \n",
    "\n",
    "**Problem description**\n",
    "\n",
    "Again, we shall generate a dataset following a given one-dimensional function as follows\n",
    "$$\n",
    "f(x) = \\exp(\\sin(x)) \\quad \\forall x \\in [-\\pi, \\pi]\n",
    "$$\n",
    "We shall build a polynomial regression with a user-defined polynomial degree.\n",
    "\n",
    "**Discussion**\n",
    "\n",
    "If we try to train a linear regression model on the polynomial features as we have just done above, we will run into a problem of slow convergence of the gradient-based optimization method. The reason, as explained in our lectures, is that the values of polynomial features run in very different ranges. For example, if $x$ runs from $-\\pi$ to $\\pi$, $x^2$ runs from $0$ to $\\pi^2$, $x^{3}$ runs from $-\\pi^3$ to $\\pi^3$, and so on for higher powers $x^{j}$. For the gradient-based method to converge, we must choose a very small learning rate, which leads to the overall slow convergence of the optimization process. Therefore, we need to perform the feature scaling before we train the linear regression model on polynomial features. **Remark**:\n",
    "As we have learned how to implement a polynomial regression in scikit-learn, the code below needs no detailed explanation and is self-explanatory."
   ]
  },
  {
   "cell_type": "code",
   "execution_count": 50,
   "metadata": {},
   "outputs": [
    {
     "data": {
      "image/png": "[encoded data removed]",
      "text/plain": [
       "<Figure size 400x280 with 1 Axes>"
      ]
     },
     "metadata": {},
     "output_type": "display_data"
    }
   ],
   "source": [
    "# Generate data using the 1-dimensiona function f(x) = exp(sin(x)) \n",
    "x = torch.linspace(-torch.pi, torch.pi, 200)\n",
    "y = torch.exp(torch.sin(x))\n",
    "plt.figure(figsize=(4, 2.8))\n",
    "plt.scatter(x, y, marker='.')\n",
    "plt.grid(True); plt.show()"
   ]
  },
  {
   "cell_type": "code",
   "execution_count": 51,
   "metadata": {},
   "outputs": [
    {
     "name": "stdout",
     "output_type": "stream",
     "text": [
      "X.shape      = torch.Size([200, 10])\n",
      "std_X.shape  = torch.Size([10])\n",
      "mean_X.shape = torch.Size([10])\n",
      "X_norm.shape = torch.Size([200, 10])\n"
     ]
    }
   ],
   "source": [
    "degree = 10      # user-defined degree\n",
    "X = torch.vstack([x**i for i in range(1, degree+1)]).T  # create polynomial features\n",
    "\n",
    "std_X, mean_X = torch.std_mean(X, dim=0)                # compute the standard deviation and mean for all the features\n",
    "X_scaled = (X - mean_X) / std_X                           # perform feature scaling\n",
    "\n",
    "print(f\"X.shape      = {X.shape}\")\n",
    "print(f\"std_X.shape  = {std_X.shape}\")\n",
    "print(f\"mean_X.shape = {mean_X.shape}\")\n",
    "print(f\"X_norm.shape = {X_scaled.shape}\")"
   ]
  },
  {
   "cell_type": "code",
   "execution_count": null,
   "metadata": {},
   "outputs": [],
   "source": [
    "class PolynomialRegression(nn.Module):\n",
    "\n",
    "    def __init__(self, degree):     # degree is the input argument for constructor\n",
    "        super().__init__()\n",
    "        self.degree = degree\n",
    "        self.fc = nn.Linear(in_features=self.degree, out_features=1, bias=True)\n",
    "\n",
    "    def forward(self, x):\n",
    "        x = self.fc(x)\n",
    "        return x.flatten()\n",
    "\n",
    "torch.manual_seed(seed=42)\n",
    "model = PolynomialRegression(degree)"
   ]
  },
  {
   "cell_type": "code",
   "execution_count": 53,
   "metadata": {},
   "outputs": [
    {
     "name": "stdout",
     "output_type": "stream",
     "text": [
      "epoch 999: loss = 0.0011846352135762572\n",
      "epoch 1999: loss = 0.0003217666526325047\n",
      "epoch 2999: loss = 0.00026781621272675693\n",
      "epoch 3999: loss = 0.0007317078998312354\n",
      "epoch 4999: loss = 0.00028622878016903996\n",
      "epoch 5999: loss = 0.00019917290774174035\n",
      "epoch 6999: loss = 0.0001786107022780925\n",
      "epoch 7999: loss = 0.00016384597984142601\n",
      "epoch 8999: loss = 0.0001500715734437108\n",
      "epoch 9999: loss = 0.00013878068421036005\n"
     ]
    }
   ],
   "source": [
    "optimizer = torch.optim.Adam(model.parameters(), lr=0.15)\n",
    "criterion = nn.MSELoss()\n",
    "\n",
    "epochs = int(1e4)\n",
    "print_stamp = epochs//10\n",
    "for epoch in range(epochs):\n",
    "\n",
    "    y_pred = model(X_scaled)\n",
    "    loss = criterion(y, y_pred)\n",
    "    loss.backward()\n",
    "\n",
    "    optimizer.step()\n",
    "    optimizer.zero_grad()\n",
    "\n",
    "    if epoch % print_stamp == print_stamp - 1:\n",
    "        print(f\"epoch {epoch}: loss = {loss.item()}\")"
   ]
  },
  {
   "cell_type": "code",
   "execution_count": 54,
   "metadata": {},
   "outputs": [
    {
     "data": {
      "image/png": "[encoded data removed]",
      "text/plain": [
       "<Figure size 400x280 with 1 Axes>"
      ]
     },
     "metadata": {},
     "output_type": "display_data"
    }
   ],
   "source": [
    "plt.figure(figsize=(4, 2.8))\n",
    "plt.scatter(x, y, marker='.')\n",
    "plt.plot(x, model(X_scaled).detach(), 'r-')\n",
    "plt.grid(True); plt.show()"
   ]
  },
  {
   "cell_type": "markdown",
   "metadata": {},
   "source": [
    "Let us compare the polynomial regression model obtained by using PyTorch and the counterpart obtained by using scikit-learn."
   ]
  },
  {
   "cell_type": "code",
   "execution_count": 55,
   "metadata": {},
   "outputs": [
    {
     "data": {
      "image/png": "[encoded data removed]",
      "text/plain": [
       "<Figure size 400x280 with 1 Axes>"
      ]
     },
     "metadata": {},
     "output_type": "display_data"
    }
   ],
   "source": [
    "from sklearn.linear_model import LinearRegression\n",
    "from sklearn.preprocessing import PolynomialFeatures\n",
    "\n",
    "linear_regression = LinearRegression()\n",
    "X_np = x.numpy().reshape((-1, 1))\n",
    "y_np = y.numpy()\n",
    "poly = PolynomialFeatures(degree=degree)\n",
    "X_poly = poly.fit_transform(X_np)\n",
    "# There is no need to perform feature scaling because the \n",
    "# linear Regression from sklearn is trained very \n",
    "# efficiently using a high-order gradient-based method.\n",
    "linear_regression.fit(X_poly, y_np)     \n",
    "plt.figure(figsize=(4, 2.8))\n",
    "plt.plot(x, linear_regression.predict(X_poly))\n",
    "plt.plot(x, model(X_scaled).detach(), 'r-')\n",
    "plt.grid(True); plt.show()"
   ]
  },
  {
   "cell_type": "markdown",
   "metadata": {},
   "source": [
    "## Customized model\n",
    "\n",
    "It is of course desirable to build a customized model that represents any complex mathematical model. This example revisits the one of the tasks given in the Exercise Assignment \\#1. Let us repeat the question of the task.\n",
    "\n",
    "You are given a dataset generated by using the following Python function. In addition to this data, the hidden function generating such data is revealed. Our task is to build a regression model that mimics the hidden function and that is governed by a set of model (learnable) parameters. First, we need to define an approproriate loss function and implement a gradient descent method to find the learnable parameters defining the regression model. This task will be solved by using PyTorch.\n",
    "\n",
    "**Remark**&nbsp; The code is quite self-explanationatory and needs litte explanation."
   ]
  },
  {
   "cell_type": "code",
   "execution_count": null,
   "metadata": {},
   "outputs": [],
   "source": [
    "# This is the function given in the exercise.\n",
    "\n",
    "x_range = 3\n",
    "def generate_data(student_id, level, size):\n",
    "    np.random.seed(student_id)      # use your student id\n",
    "    x_uniform = np.linspace(0, x_range, size)\n",
    "    x_noise = np.random.normal(loc=0, scale=0.0, size=size)\n",
    "    x_data = x_uniform + 0 * x_noise\n",
    "    def hidden_func(x):\n",
    "        return 2 / np.exp(4 * (x - x_range/2)**2) + 2\n",
    "    y_exact = hidden_func(x_data)\n",
    "    y_noise_add = level * (2*np.random.random(size) - 1)\n",
    "    y_noise_mult = np.random.normal(loc=1, scale=0.005, size=size)\n",
    "    y_data = y_exact * y_noise_mult + y_noise_add\n",
    "    \n",
    "    data = np.vstack((x_data, y_data)).T\n",
    "    return data, hidden_func\n",
    "\n",
    "# We generate the dataset defined in NumPy\n",
    "data, hidden_func = generate_data(student_id=42, level=0.1, size=200)\n",
    "# We convert data in NumPy format to the data in PyTorch.\n",
    "# note that we must convert the data to np.float32. Otherwse, the tensor x will\n",
    "# have the data type as torch.float64 which is double. However, since the Parameters\n",
    "# we define below has the data type torch.float32 which is float by default, the \n",
    "# computation of backward pass will issue an error saying that data types are not\n",
    "# consistent.\n",
    "x = torch.from_numpy(data[:,0].astype(np.float32))       \n",
    "y = torch.from_numpy(data[:,1].astype(np.float32))"
   ]
  },
  {
   "cell_type": "markdown",
   "metadata": {},
   "source": [
    "Note that in the constructor `__init__()` of the class `CustomModel`, we signify `self.a`, `self.b`, `self.c` and `self.d` as the learnable parameters of the model by employing the signature `torch.nn.Paramter(...)`. If we just write\n",
    "```python\n",
    "self.a = torch.rand()\n",
    "self.b = torch.rand()\n",
    "self.c = torch.rand()\n",
    "self.d = torch.rand()\n",
    "```\n",
    "they will be considered just standard members of the class `CustomModel` but not learnable parameters of the model. By writing\n",
    " ```python\n",
    "self.a = torch.nn.Parameter(torch.rand(()))\n",
    "self.b = torch.nn.Parameter(torch.rand(()))\n",
    "self.c = torch.nn.Parameter(torch.rand(()))\n",
    "self.r = torch.nn.Parameter(torch.rand(()))\n",
    "```\n",
    "we tell `CustomModel` that they must be treated as learnable parameters of the model. To illustrate this point, I just define a member variable `self.junk` in the constructor and examine the list of learnable parameters by using the method `.parameters()`."
   ]
  },
  {
   "cell_type": "code",
   "execution_count": 57,
   "metadata": {},
   "outputs": [
    {
     "name": "stdout",
     "output_type": "stream",
     "text": [
      "[Parameter containing:\n",
      "tensor(0.5936, requires_grad=True), Parameter containing:\n",
      "tensor(0.8694, requires_grad=True), Parameter containing:\n",
      "tensor(0.5677, requires_grad=True), Parameter containing:\n",
      "tensor(0.7411, requires_grad=True)]\n",
      "cmodel.junk = 0.42940449714660645\n"
     ]
    }
   ],
   "source": [
    "class CustomModel(nn.Module):\n",
    "\n",
    "    def __init__(self):\n",
    "        super().__init__()\n",
    "        self.a = torch.nn.Parameter(torch.rand(()))\n",
    "        self.b = torch.nn.Parameter(torch.rand(()))\n",
    "        self.c = torch.nn.Parameter(torch.rand(()))\n",
    "        self.r = torch.nn.Parameter(torch.rand(()))\n",
    "        self.junk = torch.rand(())      # you won't see this in the list of learnable parameters\n",
    "\n",
    "    def forward(self, x):\n",
    "        x = self.a / torch.exp(self.b * (x - self.r)**2) + self.c\n",
    "        return x\n",
    "    \n",
    "cmodel = CustomModel()\n",
    "print([p for p in cmodel.parameters()])\n",
    "print(f\"cmodel.junk = {cmodel.junk}\")   # but cmodel.junk exists."
   ]
  },
  {
   "cell_type": "code",
   "execution_count": 58,
   "metadata": {},
   "outputs": [
    {
     "name": "stdout",
     "output_type": "stream",
     "text": [
      "Parameter containing:\n",
      "tensor(0.5936, requires_grad=True)\n",
      "Parameter containing:\n",
      "tensor(0.8694, requires_grad=True)\n",
      "Parameter containing:\n",
      "tensor(0.5677, requires_grad=True)\n",
      "Parameter containing:\n",
      "tensor(0.7411, requires_grad=True)\n"
     ]
    }
   ],
   "source": [
    "for i in cmodel.parameters():\n",
    "    print(i)"
   ]
  },
  {
   "cell_type": "markdown",
   "metadata": {},
   "source": [
    "We use the mean squared error loss `nn.MSELoss()` and train the model using Adam optimizer. Then, the function model is plotted on top of the data points."
   ]
  },
  {
   "cell_type": "code",
   "execution_count": 59,
   "metadata": {},
   "outputs": [
    {
     "name": "stdout",
     "output_type": "stream",
     "text": [
      "epoch 499: loss = 3.6426e-03\n",
      "epoch 999: loss = 3.6425e-03\n",
      "epoch 1499: loss = 3.6425e-03\n",
      "epoch 1999: loss = 3.6425e-03\n",
      "epoch 2499: loss = 3.6427e-03\n",
      "epoch 2999: loss = 3.6426e-03\n",
      "epoch 3499: loss = 3.6426e-03\n",
      "epoch 3999: loss = 3.6425e-03\n",
      "epoch 4499: loss = 3.9572e-03\n",
      "epoch 4999: loss = 6.7461e-03\n"
     ]
    }
   ],
   "source": [
    "criterion = nn.MSELoss()\n",
    "optimizer = torch.optim.Adam(cmodel.parameters(), lr=0.25)\n",
    "epochs = int(5e3)\n",
    "print_stamp = epochs//10\n",
    "for epoch in range(epochs):\n",
    "    optimizer.zero_grad()\n",
    "    y_pred = cmodel(x)\n",
    "    loss = criterion(y, y_pred)\n",
    "    loss.backward()\n",
    "    optimizer.step()\n",
    "    \n",
    "    if epoch % print_stamp == print_stamp - 1:\n",
    "        print(f\"epoch {epoch}: loss = {loss.item():5.4e}\")"
   ]
  },
  {
   "cell_type": "code",
   "execution_count": 60,
   "metadata": {},
   "outputs": [
    {
     "data": {
      "image/png": "[encoded data removed]",
      "text/plain": [
       "<Figure size 500x380 with 1 Axes>"
      ]
     },
     "metadata": {},
     "output_type": "display_data"
    }
   ],
   "source": [
    "plt.figure(figsize=(5, 3.8))\n",
    "plt.scatter(x, y, marker='.', s=10, label='data points')\n",
    "plt.plot(x, cmodel(x).detach(), 'r-', label='model function')\n",
    "plt.legend(); plt.grid(); plt.show()"
   ]
  },
  {
   "cell_type": "code",
   "execution_count": null,
   "metadata": {},
   "outputs": [],
   "source": []
  }
 ],
 "metadata": {
  "kernelspec": {
   "display_name": "base",
   "language": "python",
   "name": "python3"
  },
  "language_info": {
   "codemirror_mode": {
    "name": "ipython",
    "version": 3
   },
   "file_extension": ".py",
   "mimetype": "text/x-python",
   "name": "python",
   "nbconvert_exporter": "python",
   "pygments_lexer": "ipython3",
   "version": "3.12.8"
  }
 },
 "nbformat": 4,
 "nbformat_minor": 2
}
