{
 "cells": [
  {
   "cell_type": "code",
   "execution_count": 1,
   "metadata": {},
   "outputs": [],
   "source": [
    "import numpy as np\n",
    "import random\n",
    "import torch as pt\n",
    "import torch.nn as nn\n",
    "import torch.optim as optim\n",
    "import re\n",
    "from torch.utils.data import Dataset, DataLoader\n",
    "\n",
    "%load_ext autoreload\n",
    "%autoreload 2\n",
    "\n",
    "pt.set_printoptions(linewidth=200)"
   ]
  },
  {
   "cell_type": "code",
   "execution_count": 2,
   "metadata": {},
   "outputs": [],
   "source": [
    "device = pt.device(\"cuda:0\" if pt.cuda.is_available() else \"cpu\")\n",
    "hidden_size = 100"
   ]
  },
  {
   "cell_type": "code",
   "execution_count": 3,
   "metadata": {
    "code_folding": []
   },
   "outputs": [],
   "source": [
    "class ShakespeareDataset(Dataset):\n",
    "    def __init__(self):\n",
    "        super().__init__()\n",
    "        with open('shakespeare.txt') as f:\n",
    "            content = f.read().lower()\n",
    "            self.vocab = sorted(set(content))\n",
    "            self.vocab_size = len(self.vocab)\n",
    "            self.poems = [poem for poem in re.split('\\s{2,}', content) if len(poem) > 100]\n",
    "        self.ch_to_idx = {c:i for i, c in enumerate(self.vocab)}\n",
    "        self.idx_to_ch = {i:c for i, c in enumerate(self.vocab)}\n",
    "    \n",
    "    def __getitem__(self, index):\n",
    "        poem = self.poems[index]\n",
    "        x_str = poem\n",
    "        y_str = poem[1:] + '\\n'\n",
    "        x = pt.zeros([len(x_str), self.vocab_size], dtype=pt.float)\n",
    "        y = pt.empty(len(x_str), dtype=pt.long)\n",
    "        for i, (x_ch, y_ch) in enumerate(zip(x_str, y_str)):\n",
    "            x[i][self.ch_to_idx[x_ch]] = 1\n",
    "            y[i] = self.ch_to_idx[y_ch]\n",
    "        \n",
    "        return x, y\n",
    "    \n",
    "    def __len__(self):\n",
    "        return len(self.poems)"
   ]
  },
  {
   "cell_type": "code",
   "execution_count": 4,
   "metadata": {},
   "outputs": [],
   "source": [
    "trn_ds = ShakespeareDataset()\n",
    "trn_dl = DataLoader(trn_ds, shuffle=True)"
   ]
  },
  {
   "cell_type": "code",
   "execution_count": 5,
   "metadata": {
    "code_folding": []
   },
   "outputs": [],
   "source": [
    "class LSTM(nn.Module):\n",
    "    def __init__(self, input_size, hidden_size, output_size):\n",
    "        super(LSTM, self).__init__()\n",
    "        self.l1 = nn.ModuleList(self.make_lstm_layer(input_size, hidden_size, hidden_size))\n",
    "        self.l2 = nn.ModuleList(self.make_lstm_layer(hidden_size, hidden_size, output_size))\n",
    "        \n",
    "    def forward(self, c_prev_1, h_prev_1, c_prev_2, h_prev_2, x):\n",
    "        c_1, h_1, output_1 = self.forward_layer(self.l1, c_prev_1, h_prev_1, x)\n",
    "        c_2, h_2, y = self.forward_layer(self.l2, c_prev_2, h_prev_2, output_1)\n",
    "        return c_1, h_1, c_2, h_2, y\n",
    "        \n",
    "    def forward_layer(self, l, c_prev, h_prev, x):\n",
    "        combined = pt.cat([x, h_prev], 1)\n",
    "        f = pt.sigmoid(l[0](combined))\n",
    "        u = pt.sigmoid(l[1](combined))\n",
    "        c_tilde = pt.tanh(l[2](combined))\n",
    "        c = f*c_prev + u*c_tilde\n",
    "        o = pt.sigmoid(l[3](combined))\n",
    "        h = o*pt.tanh(c)\n",
    "        output = l[4](h)\n",
    "        \n",
    "        return c, h, output\n",
    "        \n",
    "    def make_lstm_layer(self, input_size, hidden_size, output_size):\n",
    "        linear_f = nn.Linear(input_size + hidden_size, hidden_size)\n",
    "        linear_u = nn.Linear(input_size + hidden_size, hidden_size)\n",
    "        linear_c = nn.Linear(input_size + hidden_size, hidden_size)\n",
    "        linear_o = nn.Linear(input_size + hidden_size, hidden_size)\n",
    "        i2o = nn.Linear(hidden_size, output_size)\n",
    "        return [linear_f, linear_u, linear_c, linear_o, i2o]"
   ]
  },
  {
   "cell_type": "code",
   "execution_count": 6,
   "metadata": {},
   "outputs": [],
   "source": [
    "model = LSTM(trn_ds.vocab_size, hidden_size, trn_ds.vocab_size).to(device)\n",
    "loss_fn = nn.CrossEntropyLoss()\n",
    "optimizer = optim.SGD(model.parameters(), lr=1e-2)"
   ]
  },
  {
   "cell_type": "code",
   "execution_count": 7,
   "metadata": {
    "code_folding": []
   },
   "outputs": [],
   "source": [
    "def print_sample(sample_idxs):\n",
    "    [print(trn_ds.idx_to_ch[x], end='') for x in sample_idxs]"
   ]
  },
  {
   "cell_type": "code",
   "execution_count": 8,
   "metadata": {
    "code_folding": []
   },
   "outputs": [],
   "source": [
    "def sample(model):\n",
    "    model.eval()\n",
    "    with pt.no_grad():\n",
    "        c_prev_1 = pt.zeros([1, hidden_size], dtype=pt.float, device=device)\n",
    "        h_prev_1 = pt.zeros_like(c_prev_1)\n",
    "        c_prev_2 = pt.zeros_like(c_prev_1)\n",
    "        h_prev_2 = pt.zeros_like(c_prev_1)\n",
    "        \n",
    "        idx = random.randint(1, trn_ds.vocab_size-1)\n",
    "        x = c_prev_1.new_zeros([1, trn_ds.vocab_size])\n",
    "        x[0, idx] = 1\n",
    "        sampled_indexes = [idx]\n",
    "        n_chars = 1\n",
    "        newline_char_idx = trn_ds.ch_to_idx['\\n']\n",
    "        num_lines = 0\n",
    "        while n_chars != 1000 and num_lines != 5:\n",
    "            c_prev_1, h_prev_1, c_prev_2, h_prev_2, y_pred = model(c_prev_1, h_prev_1, c_prev_2, h_prev_2, x)\n",
    "            \n",
    "            np.random.seed(np.random.randint(1, 5000))\n",
    "            idx = np.random.choice(np.arange(trn_ds.vocab_size), p=pt.softmax(y_pred, 1).cpu().numpy().ravel())\n",
    "            sampled_indexes.append(idx)\n",
    "            x = pt.zeros_like(x)\n",
    "            x[0, idx] = 1\n",
    "            \n",
    "            n_chars += 1\n",
    "            \n",
    "            if idx == newline_char_idx:\n",
    "                num_lines += 1\n",
    "            \n",
    "        if n_chars == 50:\n",
    "            sampled_indexes.append(newline_char_idx)\n",
    "                \n",
    "    model.train()\n",
    "    return sampled_indexes"
   ]
  },
  {
   "cell_type": "code",
   "execution_count": 9,
   "metadata": {
    "code_folding": []
   },
   "outputs": [],
   "source": [
    "def train_one_epoch(model, loss_fn, optimizer):\n",
    "    for poem_num, (x, y) in enumerate(trn_dl):\n",
    "        model.train()\n",
    "        loss = 0\n",
    "        optimizer.zero_grad()\n",
    "        c_prev_1 = pt.zeros([1, hidden_size], dtype=pt.float, device=device)\n",
    "        h_prev_1 = pt.zeros_like(c_prev_1)\n",
    "        c_prev_2 = pt.zeros_like(c_prev_1)\n",
    "        h_prev_2 = pt.zeros_like(c_prev_1)\n",
    "        x, y = x.to(device), y.to(device)\n",
    "        for i in range(x.shape[1]):\n",
    "            c_prev_1, h_prev_1, c_prev_2, h_prev_2, y_pred = model(c_prev_1, h_prev_1, c_prev_2, h_prev_2, x[:, i])\n",
    "            loss += loss_fn(y_pred, y[:, i])\n",
    "        loss.backward()\n",
    "        optimizer.step()\n",
    "        if (poem_num + 1) % 50 == 0:\n",
    "            print_sample(sample(model))"
   ]
  },
  {
   "cell_type": "code",
   "execution_count": 10,
   "metadata": {
    "code_folding": []
   },
   "outputs": [],
   "source": [
    "def train(model, loss_fn, optimizer, epochs=1):\n",
    "    for e in range(1, epochs+1):\n",
    "        print(f'Epoch:{e}')\n",
    "        train_one_epoch(model, loss_fn, optimizer)"
   ]
  },
  {
   "cell_type": "code",
   "execution_count": 12,
   "metadata": {},
   "outputs": [],
   "source": [
    "train(model, loss_fn, optimizer, epochs=1000)"
   ]
  }
 ],
 "metadata": {
  "kernelspec": {
   "display_name": "base",
   "language": "python",
   "name": "python3"
  },
  "language_info": {
   "codemirror_mode": {
    "name": "ipython",
    "version": 3
   },
   "file_extension": ".py",
   "mimetype": "text/x-python",
   "name": "python",
   "nbconvert_exporter": "python",
   "pygments_lexer": "ipython3",
   "version": "3.12.7"
  }
 },
 "nbformat": 4,
 "nbformat_minor": 2
}
