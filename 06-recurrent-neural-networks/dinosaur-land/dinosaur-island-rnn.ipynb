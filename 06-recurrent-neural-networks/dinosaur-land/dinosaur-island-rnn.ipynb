{
 "cells": [
  {
   "cell_type": "code",
   "execution_count": 1,
   "metadata": {},
   "outputs": [],
   "source": [
    "import numpy as np\n",
    "import random\n",
    "import torch\n",
    "import torch.nn as nn\n",
    "import torch.optim as optim\n",
    "import pdb\n",
    "from torch.utils.data import Dataset, DataLoader\n",
    "\n",
    "# %load_ext autoreload\n",
    "# %autoreload 2\n",
    "\n",
    "torch.set_printoptions(linewidth=200)"
   ]
  },
  {
   "cell_type": "code",
   "execution_count": 2,
   "metadata": {},
   "outputs": [],
   "source": [
    "device = torch.device(\"cuda:0\" if torch.cuda.is_available() else \"cpu\")\n",
    "hidden_size = 100"
   ]
  },
  {
   "cell_type": "code",
   "execution_count": 3,
   "metadata": {
    "code_folding": []
   },
   "outputs": [],
   "source": [
    "class DinosDataset(Dataset):\n",
    "    def __init__(self):\n",
    "        super().__init__()\n",
    "        with open('dinos.txt') as f:\n",
    "            content = f.read().lower()\n",
    "            self.vocab = sorted(set(content))\n",
    "            self.vocab_size = len(self.vocab)\n",
    "            self.lines = content.splitlines()\n",
    "        self.ch_to_idx = {c:i for i, c in enumerate(self.vocab)}\n",
    "        self.idx_to_ch = {i:c for i, c in enumerate(self.vocab)}\n",
    "    \n",
    "    def __getitem__(self, index):\n",
    "        line = self.lines[index]\n",
    "        x_str = ' ' + line #add a space at the beginning, which indicates a vector of zeros.\n",
    "        y_str = line + '\\n'\n",
    "        x = torch.zeros([len(x_str), self.vocab_size], dtype=torch.float)\n",
    "        y = torch.empty(len(x_str), dtype=torch.long)\n",
    "        \n",
    "        y[0] = self.ch_to_idx[y_str[0]]\n",
    "        #we start from the second character because the first character of x was nothing(vector of zeros).\n",
    "        for i, (x_ch, y_ch) in enumerate(zip(x_str[1:], y_str[1:]), 1):\n",
    "            x[i][self.ch_to_idx[x_ch]] = 1\n",
    "            y[i] = self.ch_to_idx[y_ch]\n",
    "        \n",
    "        return x, y\n",
    "    \n",
    "    def __len__(self):\n",
    "        return len(self.lines)"
   ]
  },
  {
   "cell_type": "code",
   "execution_count": 4,
   "metadata": {},
   "outputs": [],
   "source": [
    "trn_ds = DinosDataset()\n",
    "trn_dl = DataLoader(trn_ds, batch_size=1, shuffle=True)"
   ]
  },
  {
   "cell_type": "code",
   "execution_count": 5,
   "metadata": {
    "code_folding": []
   },
   "outputs": [],
   "source": [
    "class RNN(nn.Module):\n",
    "    def __init__(self, input_size, hidden_size, output_size):\n",
    "        super().__init__()\n",
    "        self.linear_hh = nn.Linear(hidden_size, hidden_size)\n",
    "        self.linear_hx = nn.Linear(input_size, hidden_size, bias=False)\n",
    "        self.linear_output = nn.Linear(hidden_size, output_size)\n",
    "    \n",
    "    def forward(self, h_prev, x):\n",
    "        h = torch.tanh(self.linear_hh(h_prev) + self.linear_hx(x))\n",
    "        y = self.linear_output(h)\n",
    "        return h, y"
   ]
  },
  {
   "cell_type": "code",
   "execution_count": 6,
   "metadata": {},
   "outputs": [],
   "source": [
    "model = RNN(trn_ds.vocab_size, hidden_size, trn_ds.vocab_size).to(device)\n",
    "loss_fn = nn.CrossEntropyLoss()\n",
    "optimizer = optim.SGD(model.parameters(), lr=1e-2)"
   ]
  },
  {
   "cell_type": "code",
   "execution_count": 7,
   "metadata": {
    "code_folding": []
   },
   "outputs": [],
   "source": [
    "def print_sample(sample_idxs):\n",
    "    print(trn_ds.idx_to_ch[sample_idxs[0]].upper(), end='')\n",
    "    [print(trn_ds.idx_to_ch[x], end='') for x in sample_idxs[1:]]"
   ]
  },
  {
   "cell_type": "code",
   "execution_count": 8,
   "metadata": {
    "code_folding": []
   },
   "outputs": [],
   "source": [
    "def sample(model):\n",
    "    model.eval()\n",
    "    word_size=0\n",
    "    newline_idx = trn_ds.ch_to_idx['\\n']\n",
    "    indices = []\n",
    "    pred_char_idx = -1\n",
    "    h_prev = torch.zeros([1, hidden_size], dtype=torch.float, device=device)\n",
    "    x = h_prev.new_zeros([1, trn_ds.vocab_size])\n",
    "    with torch.no_grad():\n",
    "        while pred_char_idx != newline_idx and word_size != 50:\n",
    "            h_prev, y_pred = model(h_prev, x)\n",
    "            softmax_scores = torch.softmax(y_pred, dim=1).cpu().numpy().ravel()\n",
    "            np.random.seed(np.random.randint(1, 5000))\n",
    "            idx = np.random.choice(np.arange(trn_ds.vocab_size), p=softmax_scores)\n",
    "            indices.append(idx)\n",
    "            \n",
    "            x = (y_pred == y_pred.max(1)[0]).float()\n",
    "            pred_char_idx = idx\n",
    "            \n",
    "            word_size += 1\n",
    "        \n",
    "        if word_size == 50:\n",
    "            indices.append(newline_idx)\n",
    "    return indices"
   ]
  },
  {
   "cell_type": "code",
   "execution_count": 9,
   "metadata": {
    "code_folding": []
   },
   "outputs": [],
   "source": [
    "def train_one_epoch(model, loss_fn, optimizer):\n",
    "    for line_num, (x, y) in enumerate(trn_dl):\n",
    "        model.train()\n",
    "        loss = 0\n",
    "        optimizer.zero_grad()\n",
    "        h_prev = torch.zeros([1, hidden_size], dtype=torch.float, device=device)\n",
    "        x, y = x.to(device), y.to(device)\n",
    "        for i in range(x.shape[1]):\n",
    "            h_prev, y_pred = model(h_prev, x[:, i])\n",
    "            loss += loss_fn(y_pred, y[:, i])\n",
    "        if (line_num+1) % 100 == 0:\n",
    "            print_sample(sample(model))\n",
    "            \n",
    "        loss.backward()\n",
    "        torch.nn.utils.clip_grad_norm_(model.parameters(), 5) #gradient clipping\n",
    "        optimizer.step()"
   ]
  },
  {
   "cell_type": "code",
   "execution_count": 10,
   "metadata": {
    "code_folding": []
   },
   "outputs": [],
   "source": [
    "def train(model, loss_fn, optimizer, dataset='dinos', epochs=1):\n",
    "    for e in range(1, epochs+1):\n",
    "        print(f'{\"-\"*20} Epoch {e} {\"-\"*20}')\n",
    "        train_one_epoch(model, loss_fn, optimizer)"
   ]
  },
  {
   "cell_type": "code",
   "execution_count": 11,
   "metadata": {},
   "outputs": [
    {
     "name": "stdout",
     "output_type": "stream",
     "text": [
      "-------------------- Epoch 1 --------------------\n",
      "Hdx\n",
      "Saz\n",
      "Eqang\n",
      "Tyapaanaurus\n",
      "Fuaghaurus\n",
      "Zptnairus\n",
      "Irashtsus\n",
      "Okolatresiurus\n",
      "Eitwaurus\n",
      "Tjhaoaitaurus\n",
      "Lhpsaurus\n",
      "Uainaorbs\n",
      "Vaeus\n",
      "Lfrks\n",
      "Tbrussnrus\n",
      "-------------------- Epoch 2 --------------------\n",
      "Etpnturus\n",
      "Amrarlerus\n",
      "Burasaurulaarus\n",
      "Bururaurutaurus\n",
      "Inbms\n",
      "Slsalhuaus\n",
      "Hlcucaurus\n",
      "Tureshusus\n",
      "Suaoaerur\n",
      "Gucdsaarus\n",
      "Ibrarturus\n",
      "Snrusaurus\n",
      "Tarocaulus\n",
      "Aeroaarrus\n",
      "Tcrustnrus\n",
      "-------------------- Epoch 3 --------------------\n",
      "Esrmtourus\n",
      "Jncis\n",
      "Slsacjuaus\n",
      "Hmcucaurus\n",
      "Turiseusus\n",
      "Smarrc\n",
      "Sbrhs\n",
      "Burasaurur\n",
      "Antusaurus\n",
      "Surusaurun\n",
      "Lbouciurcs\n",
      "Margsaumus\n",
      "Xrsasourus\n",
      "Jyroshuhus\n",
      "Guculterus\n",
      "-------------------- Epoch 4 --------------------\n",
      "Lirhlauius\n",
      "Verusaurushurus\n",
      "Aarcos\n",
      "Slsaeoudus\n",
      "Hmauaaurus\n",
      "Tureskusus\n",
      "Sobrodaurus\n",
      "Aaurasaurus\n",
      "Antosaurus\n",
      "Strusaurue\n",
      "Lbpuaousas\n",
      "Larasaunus\n",
      "Xrsassurus\n",
      "Lyrosoulus\n",
      "Gucunterus\n",
      "-------------------- Epoch 5 --------------------\n",
      "Mkrimaunus\n",
      "Ugrusaurus\n",
      "Tnrus\n",
      "Jnbns\n",
      "Slsaciudus\n",
      "Gmbucaurus\n",
      "Turisiusus\n",
      "Suaipaurus\n",
      "Tbatnaonaurus\n",
      "Kvmulfurus\n",
      "Snxupiuras\n",
      "Alrasaunus\n",
      "Apkunaeras\n",
      "Pudusturus\n",
      "Yursstcrus\n"
     ]
    }
   ],
   "source": [
    "train(model, loss_fn, optimizer, epochs=2000)"
   ]
  },
  {
   "cell_type": "markdown",
   "metadata": {},
   "source": [
    "## Print training data (used for debugging, you can ignore this)"
   ]
  },
  {
   "cell_type": "code",
   "execution_count": 12,
   "metadata": {
    "code_folding": []
   },
   "outputs": [],
   "source": [
    "def print_ds(ds, num_examples=10):\n",
    "    for i, (x, y) in enumerate(trn_ds, 1):\n",
    "        print('*'*50)\n",
    "        x_str, y_str = '', ''\n",
    "        for idx in y:\n",
    "            y_str += trn_ds.idx_to_ch[idx.item()]\n",
    "        print(repr(y_str))\n",
    "\n",
    "        for t in x[1:]:\n",
    "            x_str += trn_ds.idx_to_ch[t.argmax().item()]\n",
    "        print(repr(x_str))\n",
    "\n",
    "        if i == num_examples:\n",
    "            break"
   ]
  },
  {
   "cell_type": "code",
   "execution_count": 13,
   "metadata": {},
   "outputs": [
    {
     "name": "stdout",
     "output_type": "stream",
     "text": [
      "**************************************************\n",
      "'aachenosaurus\\n'\n",
      "'aachenosaurus'\n",
      "**************************************************\n",
      "'aardonyx\\n'\n",
      "'aardonyx'\n",
      "**************************************************\n",
      "'abdallahsaurus\\n'\n",
      "'abdallahsaurus'\n",
      "**************************************************\n",
      "'abelisaurus\\n'\n",
      "'abelisaurus'\n",
      "**************************************************\n",
      "'abrictosaurus\\n'\n",
      "'abrictosaurus'\n"
     ]
    }
   ],
   "source": [
    "print_ds(trn_ds, 5)"
   ]
  }
 ],
 "metadata": {
  "kernelspec": {
   "display_name": "base",
   "language": "python",
   "name": "python3"
  },
  "language_info": {
   "codemirror_mode": {
    "name": "ipython",
    "version": 3
   },
   "file_extension": ".py",
   "mimetype": "text/x-python",
   "name": "python",
   "nbconvert_exporter": "python",
   "pygments_lexer": "ipython3",
   "version": "3.12.7"
  }
 },
 "nbformat": 4,
 "nbformat_minor": 2
}
