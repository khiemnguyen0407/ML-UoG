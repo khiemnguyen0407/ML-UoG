{
 "cells": [
  {
   "cell_type": "markdown",
   "id": "bafef5b9",
   "metadata": {},
   "source": [
    "# Self-study Lab 1: Model Representation for Linear Regression"
   ]
  },
  {
   "cell_type": "markdown",
   "id": "8e06d435",
   "metadata": {},
   "source": [
    "## Objectives\n",
    "\n",
    "In this self-study notebook you will:\n",
    "\n",
    "- Learn to implement the model $f_{w,b}$ for linear regression with one variable\n",
    "- Visualize the data and the linear regression model using matplotlib.pyplot\n",
    "- Learn how to read data from a text file or an excel csv file"
   ]
  },
  {
   "cell_type": "markdown",
   "id": "df8ded18",
   "metadata": {},
   "source": [
    "## Tools\n",
    "\n",
    "In this lab you will use:\n",
    "- Numpy, a popular library for scientific comuting.\n",
    "- Matplotlib, a popular library for plotting data\n",
    "\n",
    "Numpy is good at handling multiplication of matrices and dot product of two vectors. It can do more than what just mentioned."
   ]
  },
  {
   "cell_type": "code",
   "execution_count": 3,
   "id": "ac5c60cc",
   "metadata": {},
   "outputs": [],
   "source": [
    "import numpy as np\n",
    "import matplotlib.pyplot as plt"
   ]
  },
  {
   "cell_type": "markdown",
   "id": "7f8d992a",
   "metadata": {},
   "source": [
    "## Problem statement\n",
    "\n",
    "In this lab, you will use the motivating example from medical cost for people in one particular regiion. The full data can be downloaded from github (link: https://github.com/stedy/Machine-Learning-with-R-datasets). The data consists of a table with $7$ columns as follows:\n",
    "\n",
    "Age | sex | bmi | children | smoker | region | charges\n",
    "----| ----| --- | -------- | ------ | ------ | -------\n",
    "\n",
    "The goal is to predict the medicial cost for one new person record according to the existing record. Thus, the first six columns correspond to the input data and the last column to the output data. \n",
    "\n",
    "We don't want to make it complicated in your first touch in machine learning and linear regression model. For now, let us assume that the *oversimplifed* data table with only two data points\n",
    "\n",
    "Age | Charges \n",
    "----| -----------\n",
    "18  | 1720\n",
    "25  | 2750\n",
    "\n",
    "The two data points are just made up based on two records in the excel file provided in github. These data are of course oversimplified and just for educational purpose.\n",
    "\n",
    "Run the following code cell to create your training data. The data is stored in one-dimensional Numpy arrays."
   ]
  },
  {
   "cell_type": "code",
   "execution_count": 7,
   "id": "1bd1bd6f",
   "metadata": {},
   "outputs": [
    {
     "name": "stdout",
     "output_type": "stream",
     "text": [
      "x_train = [18 25]\n",
      "y_train = [1720 2750]\n"
     ]
    }
   ],
   "source": [
    "x_train = np.array([18, 25])\n",
    "y_train = np.array([1720, 2750])\n",
    "print(f\"x_train = {x_train}\")\n",
    "print(f\"y_train = {y_train}\")"
   ]
  },
  {
   "cell_type": "markdown",
   "id": "13f5e2c5",
   "metadata": {},
   "source": [
    "### Number of training examples $m$"
   ]
  },
  {
   "cell_type": "markdown",
   "id": "f473be9c",
   "metadata": {},
   "source": [
    "We will use `m` to denote the number of training examples. Numpy arrays have a `.shape` parameter to do this neatly. `x_train.shape` returns a python tuple with an entry for each dimension. `x_train.shape[0]` is the length of the array and number of examples shown below"
   ]
  },
  {
   "cell_type": "code",
   "execution_count": 11,
   "id": "2c5c23dd",
   "metadata": {},
   "outputs": [
    {
     "name": "stdout",
     "output_type": "stream",
     "text": [
      "x_train.shape: (2,)\n",
      "Number of training example = 2\n"
     ]
    }
   ],
   "source": [
    "print(f\"x_train.shape: {x_train.shape}\")\n",
    "m = x_train.shape[0]\n",
    "print(f\"Number of training example = {m}\")"
   ]
  },
  {
   "cell_type": "markdown",
   "id": "7c4b2b33",
   "metadata": {},
   "source": [
    "### Training example $x^{(i)}, y^{(i)}$\n",
    "\n",
    "We use $(x^{(i)}, y^{(i)})$ to denote $i^\\mathrm{th}$ training example. It is important to remember that Python is <font color:red>zero indexed </font> so that the first training example corresponding to the index $O$. As such we may write \n",
    "$$\\begin{aligned} (x^{(0)}, y^{(0)}) &= (18, 1720), \\\\ (x^{(1)}, y^{(1)}) &= (25, 2750).\\end{aligned}$$ \n",
    "This is probably a bit different from the lecture in which we normally name the first training example as number $1$. However, it does not matter as we can rename the first example as number $0$ when convenient."
   ]
  },
  {
   "cell_type": "code",
   "execution_count": 12,
   "id": "6eb13ada",
   "metadata": {},
   "outputs": [
    {
     "name": "stdout",
     "output_type": "stream",
     "text": [
      "x^(0), y^(0) = (18, 1720)\n",
      "x^(1), y^(1) = (25, 2750)\n"
     ]
    }
   ],
   "source": [
    "for i in range(m):\n",
    "    x_i = x_train[i]\n",
    "    y_i = y_train[i]\n",
    "    print(f\"x^({i}), y^({i}) = ({x_i}, {y_i})\")"
   ]
  },
  {
   "cell_type": "markdown",
   "id": "b839d098",
   "metadata": {},
   "source": [
    "### Plotting the data\n",
    "\n",
    "We can plot the data points by using `scatter()` function in the `matplotlib` library. The function keyword arguments `marker` and `c` allow us to choose the marker style and the color. There are many more keyword arguments for the function `scatter()`."
   ]
  },
  {
   "cell_type": "code",
   "execution_count": 15,
   "id": "3ab51257",
   "metadata": {},
   "outputs": [
    {
     "data": {
      "image/png": "[encoded data removed]",
      "text/plain": [
       "<Figure size 640x480 with 1 Axes>"
      ]
     },
     "metadata": {},
     "output_type": "display_data"
    }
   ],
   "source": [
    "# Plot the data points\n",
    "plt.scatter(x_train, y_train, marker='x', c='b', s=40)  # s --> size of the marker\n",
    "plt.grid(True)                             # turn on the grid\n",
    "plt.xlabel('Age', fontsize=16)             # label for x-axis\n",
    "plt.ylabel('Charge', fontsize=16)          # label for y-axis\n",
    "plt.title('Medical cost', fontsize=20)     # title for the whole plot\n",
    "plt.show()"
   ]
  },
  {
   "cell_type": "markdown",
   "id": "1e8c959b",
   "metadata": {},
   "source": [
    "## Model function\n",
    "\n",
    "The model function for linear regression is represented as\n",
    "$$f_{w,b}(x) = w x + b \\quad\\Rightarrow \\quad f_{w,b}(x^{(i)}) = w x^{(i)} + b \\quad \\forall i$$\n",
    "\n",
    "The formula above is how we can represent straight lines. Different values of $w$ and $b$ give different straight lines on the plot. Let us try to visualize the linear regression model on the plot. Of course, we compute $y^{(i)}$ for each $x^{(i)}$ using a for loop. However, whenever we need to change the model parameters, i.e. $w$ and $b$, we must redefine them and rerun the code. This can be done but the strategy is not neat. Instead, we can write a function to do the job. As such, the parameters $w$ and $b$ will be input for the function alongside the natural input $x$."
   ]
  },
  {
   "cell_type": "code",
   "execution_count": 20,
   "id": "d103efbd",
   "metadata": {},
   "outputs": [],
   "source": [
    "def compute_model_output(x, w, b):\n",
    "    \"\"\"\n",
    "    Compute the prediction of a linear model\n",
    "    Args:\n",
    "        x (ndarray (m,)): Data, m examples\n",
    "        w, b (scalar)   : model parameters\n",
    "    Returns:\n",
    "        y (ndarray (m,)): target values\n",
    "    \"\"\"\n",
    "    m = x.shape[0]\n",
    "    f_wb = np.zeros(m)  # vector of m elements\n",
    "    # Write your code here: \n",
    "    # Remember to go through all the training example with for loop\n",
    "    for i in range(m):\n",
    "        f_wb[i] = w * x[i] + b\n",
    "        \n",
    "    return f_wb"
   ]
  },
  {
   "cell_type": "markdown",
   "id": "9f39b847",
   "metadata": {},
   "source": [
    "**Remark**\n",
    "\n",
    "Think about the above code again. Do we really need to write a for loop in this case? Do we even need to write a function at all in the first place?"
   ]
  },
  {
   "cell_type": "code",
   "execution_count": 21,
   "id": "338cf037",
   "metadata": {},
   "outputs": [],
   "source": [
    "f_wb = lambda x, w, b: w * x + b"
   ]
  },
  {
   "cell_type": "code",
   "execution_count": 31,
   "id": "eed3ded9",
   "metadata": {},
   "outputs": [
    {
     "data": {
      "image/png": "[encoded data removed]",
      "text/plain": [
       "<Figure size 640x480 with 1 Axes>"
      ]
     },
     "metadata": {},
     "output_type": "display_data"
    }
   ],
   "source": [
    "# Plot our model prediction\n",
    "w = 80\n",
    "b = 450\n",
    "plt.plot(x_train, compute_model_output(x_train, w, b), 'k-', label='Model prediction')\n",
    "\n",
    "plt.scatter(x_train, y_train, marker='x', c='r', s=50, label='actual value')\n",
    "plt.grid(True)"
   ]
  },
  {
   "cell_type": "markdown",
   "id": "183435a2",
   "metadata": {},
   "source": [
    "### Challenge\n",
    "\n",
    "1. Try experimenting with different values of $w$ and $b$. What should they be for a line that fits our data perfectly?\n",
    "2. Instead of experimenting with trial-and-error, why don't you try to compute $w$ and $b$ directly?\n",
    "\n",
    "Hint: Now, you have a function $y = f_{w,b}(x)$. The straight line that fits perfectly the data points should satisfy the two equations $$f_{w,b}(x^{(0)}) = y^{(0)}, f_{w,b}(x^{(1)}) = y^{(1)}.$$ Writting these two equations explicitly in terms of $w$ and $b$, we have two linear equations for two unknown, i.e. $w$ and $b$."
   ]
  },
  {
   "cell_type": "markdown",
   "id": "cfd63699",
   "metadata": {},
   "source": [
    "## Congratulation!!!"
   ]
  }
 ],
 "metadata": {
  "kernelspec": {
   "display_name": "base",
   "language": "python",
   "name": "python3"
  },
  "language_info": {
   "codemirror_mode": {
    "name": "ipython",
    "version": 3
   },
   "file_extension": ".py",
   "mimetype": "text/x-python",
   "name": "python",
   "nbconvert_exporter": "python",
   "pygments_lexer": "ipython3",
   "version": "3.12.7"
  }
 },
 "nbformat": 4,
 "nbformat_minor": 5
}
